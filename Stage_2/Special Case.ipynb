{
 "cells": [
  {
   "cell_type": "code",
   "execution_count": null,
   "metadata": {},
   "outputs": [],
   "source": [
    "import scholarly_proxy as scholarly\n",
    "import pandas as pd\n",
    "import numpy as np\n",
    "from tqdm import tqdm_notebook as tqdm\n",
    "import json\n",
    "import datetime"
   ]
  },
  {
   "cell_type": "code",
   "execution_count": null,
   "metadata": {},
   "outputs": [],
   "source": [
    "data = pd.read_csv(\"NESCent_No_ID.csv\", index_col=0)"
   ]
  },
  {
   "cell_type": "code",
   "execution_count": null,
   "metadata": {},
   "outputs": [],
   "source": [
    "data"
   ]
  },
  {
   "cell_type": "code",
   "execution_count": null,
   "metadata": {},
   "outputs": [],
   "source": [
    "scholarly.supress_warnings()\n",
    "query = scholarly.search_author(\"Maria A. Gandolfo\")"
   ]
  },
  {
   "cell_type": "code",
   "execution_count": null,
   "metadata": {},
   "outputs": [],
   "source": [
    "author = next(query)"
   ]
  },
  {
   "cell_type": "code",
   "execution_count": null,
   "metadata": {},
   "outputs": [],
   "source": [
    "author.fill()"
   ]
  },
  {
   "cell_type": "code",
   "execution_count": null,
   "metadata": {},
   "outputs": [],
   "source": [
    "base_row = ['Maria Gandolfo Nixon', 'MA Gandolfo', 'Cornell University', 'Research Scientist', 'Plant Biology']"
   ]
  },
  {
   "cell_type": "code",
   "execution_count": null,
   "metadata": {},
   "outputs": [],
   "source": [
    "for publication in tqdm(author.publications):\n",
    "    bib = publication.fill().bib\n",
    "    \n",
    "    # Get all required data and append to row\n",
    "    # Use get to avoid KeyValue Exceptions and define defaults (some publications do not have authors, for exm.)\n",
    "    title = bib.get('title', '')\n",
    "    author_names = bib.get('author', '')\n",
    "    year = bib.get('year', np.NaN)\n",
    "    journal = bib.get('journal', '')\n",
    "\n",
    "    publication.bib['abstract'] = \"\"\n",
    "    # Create APA Citation from data given\n",
    "    raw = json.dumps(vars(publication))\n",
    "\n",
    "    date = datetime.datetime.today().strftime('%Y-%m-%d')\n",
    "\n",
    "    if hasattr(publication, 'citedby'):\n",
    "        cited_by = publication.citedby\n",
    "    else:\n",
    "        cited_by = 0\n",
    "\n",
    "    new_row = base_row[:]\n",
    "    new_row.append(title)\n",
    "    new_row.append(author_names)\n",
    "    new_row.append(year)\n",
    "    new_row.append(journal)\n",
    "    new_row.append(raw)\n",
    "    new_row.append(date)\n",
    "    new_row.append(cited_by)\n",
    "\n",
    "    # Append row to dataframe\n",
    "    data.loc[data.shape[0]] = new_row\n",
    "    "
   ]
  },
  {
   "cell_type": "code",
   "execution_count": null,
   "metadata": {},
   "outputs": [],
   "source": [
    "data"
   ]
  },
  {
   "cell_type": "code",
   "execution_count": null,
   "metadata": {},
   "outputs": [],
   "source": [
    "data.to_csv('NESCent_No_ID_with_Extra.csv')"
   ]
  },
  {
   "cell_type": "code",
   "execution_count": null,
   "metadata": {},
   "outputs": [],
   "source": []
  }
 ],
 "metadata": {
  "kernelspec": {
   "display_name": "Python 3",
   "language": "python",
   "name": "python3"
  },
  "language_info": {
   "codemirror_mode": {
    "name": "ipython",
    "version": 3
   },
   "file_extension": ".py",
   "mimetype": "text/x-python",
   "name": "python",
   "nbconvert_exporter": "python",
   "pygments_lexer": "ipython3",
   "version": "3.6.4"
  }
 },
 "nbformat": 4,
 "nbformat_minor": 2
}
