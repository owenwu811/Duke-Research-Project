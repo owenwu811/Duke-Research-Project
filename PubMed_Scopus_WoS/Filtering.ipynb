{
 "cells": [
  {
   "cell_type": "code",
   "execution_count": 73,
   "metadata": {},
   "outputs": [],
   "source": [
    "import pandas as pd\n",
    "import numpy as np"
   ]
  },
  {
   "cell_type": "code",
   "execution_count": 74,
   "metadata": {},
   "outputs": [],
   "source": [
    "all_df = pd.read_csv(\"all_researchers.csv\", index_col=0)"
   ]
  },
  {
   "cell_type": "code",
   "execution_count": 75,
   "metadata": {},
   "outputs": [],
   "source": [
    "supplemental_df = pd.read_excel(\"user_excel.xlsx\")"
   ]
  },
  {
   "cell_type": "code",
   "execution_count": null,
   "metadata": {},
   "outputs": [],
   "source": []
  },
  {
   "cell_type": "code",
   "execution_count": 90,
   "metadata": {},
   "outputs": [],
   "source": [
    "rows_to_match = ['Profession', 'phd_yr', 'phd_degree', 'phd_institution', 'biologydiscipline1', 'biologydiscipline2', 'nonbiologydiscipline', 'affiliation_country', 'affiliation_state']\n",
    "columns = [[] for x in rows_to_match]\n",
    "count = 0\n",
    "for index, row in all_df.iterrows():\n",
    "    matched_row = supplemental_df[(supplemental_df['NameFirst']==row.NameFirst) & (supplemental_df['NameLast']==row.NameLast)]\n",
    "    if int(matched_row.shape[0])>0:\n",
    "        \n",
    "        # Special case where author shares same first and last name, manauly checked\n",
    "        if int(matched_row.shape[0])>1:\n",
    "            matched_row = matched_row[matched_row['Institution'] == 'California State University-Fullerton']\n",
    "\n",
    "        matched_row = matched_row[rows_to_match]\n",
    "        for y, x in enumerate(columns):\n",
    "            x.append(matched_row.iloc[0][y])\n",
    "\n",
    "           \n",
    "    else:\n",
    "        for x in columns:\n",
    "            x.append(np.NaN)\n",
    "        "
   ]
  },
  {
   "cell_type": "code",
   "execution_count": 93,
   "metadata": {},
   "outputs": [],
   "source": [
    "for index, rows in enumerate(rows_to_match):\n",
    "    all_df[rows] = columns[index]"
   ]
  },
  {
   "cell_type": "code",
   "execution_count": 95,
   "metadata": {},
   "outputs": [],
   "source": [
    "all_df.to_csv(\"all_researchers_with_supplement.csv\")"
   ]
  },
  {
   "cell_type": "code",
   "execution_count": null,
   "metadata": {},
   "outputs": [],
   "source": []
  }
 ],
 "metadata": {
  "kernelspec": {
   "display_name": "Python 3",
   "language": "python",
   "name": "python3"
  },
  "language_info": {
   "codemirror_mode": {
    "name": "ipython",
    "version": 3
   },
   "file_extension": ".py",
   "mimetype": "text/x-python",
   "name": "python",
   "nbconvert_exporter": "python",
   "pygments_lexer": "ipython3",
   "version": "3.6.4"
  }
 },
 "nbformat": 4,
 "nbformat_minor": 2
}
