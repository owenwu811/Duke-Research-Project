{
 "cells": [
  {
   "cell_type": "code",
   "execution_count": 47,
   "metadata": {},
   "outputs": [],
   "source": [
    "import os, sys\n",
    "sys.path.append(os.path.dirname(os.path.dirname(os.path.abspath('__file__'))))"
   ]
  },
  {
   "cell_type": "code",
   "execution_count": 48,
   "metadata": {},
   "outputs": [],
   "source": [
    "import scholarly_proxy as scholarly"
   ]
  },
  {
   "cell_type": "code",
   "execution_count": 49,
   "metadata": {},
   "outputs": [],
   "source": [
    "def get_author_by_scholarid(id):\n",
    "    try:\n",
    "        result = scholarly.Author(id).fill()\n",
    "        return result\n",
    "    except AttributeError:\n",
    "        return None"
   ]
  },
  {
   "cell_type": "code",
   "execution_count": 50,
   "metadata": {},
   "outputs": [
    {
     "name": "stderr",
     "output_type": "stream",
     "text": [
      "C:\\Users\\cheng\\Anaconda3\\lib\\site-packages\\urllib3\\connectionpool.py:857: InsecureRequestWarning: Unverified HTTPS request is being made. Adding certificate verification is strongly advised. See: https://urllib3.readthedocs.io/en/latest/advanced-usage.html#ssl-warnings\n",
      "  InsecureRequestWarning)\n"
     ]
    }
   ],
   "source": [
    "x = get_author_by_scholarid('ogYgVLwAAAAJ')"
   ]
  },
  {
   "cell_type": "code",
   "execution_count": 53,
   "metadata": {},
   "outputs": [
    {
     "name": "stderr",
     "output_type": "stream",
     "text": [
      "C:\\Users\\cheng\\Anaconda3\\lib\\site-packages\\urllib3\\connectionpool.py:857: InsecureRequestWarning: Unverified HTTPS request is being made. Adding certificate verification is strongly advised. See: https://urllib3.readthedocs.io/en/latest/advanced-usage.html#ssl-warnings\n",
      "  InsecureRequestWarning)\n"
     ]
    }
   ],
   "source": [
    "pub = x.publications[0].fill()"
   ]
  },
  {
   "cell_type": "code",
   "execution_count": 54,
   "metadata": {},
   "outputs": [],
   "source": [
    "test = pub.bib['abstract']"
   ]
  },
  {
   "cell_type": "code",
   "execution_count": 55,
   "metadata": {},
   "outputs": [
    {
     "data": {
      "text/plain": [
       "bs4.element.Tag"
      ]
     },
     "execution_count": 55,
     "metadata": {},
     "output_type": "execute_result"
    }
   ],
   "source": [
    "type(test)"
   ]
  },
  {
   "cell_type": "code",
   "execution_count": 57,
   "metadata": {},
   "outputs": [
    {
     "data": {
      "text/plain": [
       "True"
      ]
     },
     "execution_count": 57,
     "metadata": {},
     "output_type": "execute_result"
    }
   ],
   "source": [
    "import bs4\n",
    "isinstance(test, bs4.element.Tag)"
   ]
  },
  {
   "cell_type": "code",
   "execution_count": null,
   "metadata": {
    "scrolled": true
   },
   "outputs": [],
   "source": [
    "raw_dict = vars(pub)"
   ]
  },
  {
   "cell_type": "code",
   "execution_count": null,
   "metadata": {},
   "outputs": [],
   "source": [
    "type(raw_dict['bib']['abstract'])"
   ]
  },
  {
   "cell_type": "code",
   "execution_count": null,
   "metadata": {},
   "outputs": [],
   "source": [
    "import bs4\n"
   ]
  },
  {
   "cell_type": "code",
   "execution_count": 44,
   "metadata": {},
   "outputs": [],
   "source": [
    "raw_dict['bib']['abstract'] = raw_dict['bib']['abstract'].text"
   ]
  },
  {
   "cell_type": "code",
   "execution_count": 46,
   "metadata": {},
   "outputs": [
    {
     "data": {
      "text/plain": [
       "str"
      ]
     },
     "execution_count": 46,
     "metadata": {},
     "output_type": "execute_result"
    }
   ],
   "source": [
    "type(raw_dict['bib']['abstract'])"
   ]
  },
  {
   "cell_type": "code",
   "execution_count": null,
   "metadata": {},
   "outputs": [],
   "source": []
  },
  {
   "cell_type": "code",
   "execution_count": 2,
   "metadata": {},
   "outputs": [],
   "source": [
    "import scopus_api_keys\n",
    "def get_api_keys():\n",
    "    keys = scopus_api_keys.keys\n",
    "    for key in keys:\n",
    "        yield key"
   ]
  },
  {
   "cell_type": "code",
   "execution_count": 3,
   "metadata": {},
   "outputs": [],
   "source": [
    "x = get_api_keys()"
   ]
  },
  {
   "cell_type": "code",
   "execution_count": 8,
   "metadata": {},
   "outputs": [
    {
     "data": {
      "text/plain": [
       "'32bb6dad59e779f6feb7ab661c029e97'"
      ]
     },
     "execution_count": 8,
     "metadata": {},
     "output_type": "execute_result"
    }
   ],
   "source": [
    "next(x)"
   ]
  },
  {
   "cell_type": "code",
   "execution_count": 1,
   "metadata": {},
   "outputs": [],
   "source": [
    "import scopus\n",
    "from scopus import AuthorSearch"
   ]
  },
  {
   "cell_type": "code",
   "execution_count": 9,
   "metadata": {},
   "outputs": [],
   "source": [
    "scopus.MY_API_KEY = '32bb6dad59e779f6feb7ab661c029e97'"
   ]
  },
  {
   "cell_type": "code",
   "execution_count": null,
   "metadata": {},
   "outputs": [],
   "source": []
  },
  {
   "cell_type": "code",
   "execution_count": 56,
   "metadata": {},
   "outputs": [],
   "source": [
    "last_name = 'Anderson'\n",
    "first_name = 'Michael'\n",
    "affil = 'Wake Forest'\n",
    "\n",
    "if affil is None:\n",
    "    x = scopus.AuthorSearch('AUTHLASTNAME(%s) and AUTHFIRST(%s)' % (last_name, first_name))\n",
    "else:\n",
    "    x = scopus.AuthorSearch('AUTHLASTNAME(%s) and AUTHFIRST(%s) and AFFIL(%s)' % (last_name, first_name, affil))"
   ]
  },
  {
   "cell_type": "code",
   "execution_count": null,
   "metadata": {},
   "outputs": [],
   "source": []
  },
  {
   "cell_type": "code",
   "execution_count": 57,
   "metadata": {},
   "outputs": [
    {
     "data": {
      "text/plain": [
       "[Author(eid='9-s2.0-7403303026', surname='Anderson', initials='T.M.', givenname='Todd Michael', affiliation='Wake Forest University', documents='46', affiliation_id='60033114', city='Winston Salem', country='United States', areas='AGRI (36); ENVI (23); MULT (5)'),\n",
       " Author(eid='9-s2.0-57193329348', surname='Anderson', initials='M.S.', givenname='Michael S.', affiliation='Wake Forest University School of Medicine', documents='2', affiliation_id='60031437', city='Winston Salem', country='United States', areas='MEDI (3); PHAR (1); SOCI (1)'),\n",
       " Author(eid='9-s2.0-55472545200', surname='Anderson', initials='M.T.', givenname='Michael T.', affiliation='Wake Forest University', documents='1', affiliation_id='60033114', city='Winston Salem', country='United States', areas='ENVI (2); AGRI (1)')]"
      ]
     },
     "execution_count": 57,
     "metadata": {},
     "output_type": "execute_result"
    }
   ],
   "source": [
    "x.authors"
   ]
  },
  {
   "cell_type": "code",
   "execution_count": null,
   "metadata": {},
   "outputs": [],
   "source": []
  },
  {
   "cell_type": "code",
   "execution_count": 50,
   "metadata": {},
   "outputs": [],
   "source": [
    "scopus.MY_API_KEY = next(key_generator)"
   ]
  },
  {
   "cell_type": "code",
   "execution_count": 52,
   "metadata": {},
   "outputs": [
    {
     "name": "stdout",
     "output_type": "stream",
     "text": [
      "Narrowing search to name only\n",
      "AUTHLASTNAME(Seiter) and AUTHFIRST(Sarah)\n",
      "        Resulted in 1 hits.\n",
      "    {'@_fa': 'true', 'link': [{'@_fa': 'true', '@ref': 'self', '@href': 'https://api.elsevier.com/content/author/author_id/47361597300'}, {'@_fa': 'true', '@ref': 'search', '@href': 'https://api.elsevier.com/content/search/author?query=au-id%2847361597300%29'}, {'@_fa': 'true', '@ref': 'scopus-citedby', '@href': 'https://www.scopus.com/author/citedby.uri?partnerID=HzOxMe3b&citedAuthorId=47361597300&origin=inward'}, {'@_fa': 'true', '@ref': 'scopus-author', '@href': 'https://www.scopus.com/authid/detail.uri?partnerID=HzOxMe3b&authorId=47361597300&origin=inward'}], 'prism:url': 'https://api.elsevier.com/content/author/author_id/47361597300', 'dc:identifier': 'AUTHOR_ID:47361597300', 'eid': '9-s2.0-47361597300', 'preferred-name': {'surname': 'Seiter', 'given-name': 'Sarah A.', 'initials': 'S.A.'}, 'name-variant': [{'@_fa': 'true', 'surname': 'Seiter', 'given-name': 'S.', 'initials': 'S.'}], 'document-count': '5', 'subject-area': [{'@abbrev': 'AGRI', '@frequency': '4', '$': 'Agricultural and Biological Sciences (all)'}, {'@abbrev': 'MEDI', '@frequency': '1', '$': 'Medicine (all)'}, {'@abbrev': 'BIOC', '@frequency': '1', '$': 'Biochemistry, Genetics and Molecular Biology (all)'}], 'affiliation-current': {'affiliation-url': 'https://api.elsevier.com/content/affiliation/affiliation_id/60000221', 'affiliation-id': '60000221', 'affiliation-name': 'University of Colorado at Boulder', 'affiliation-city': 'Boulder', 'affiliation-country': 'United States'}}\n"
     ]
    },
    {
     "data": {
      "text/plain": [
       "[<scopus.scopus_api.ScopusAbstract at 0x21ffdb4f320>,\n",
       " <scopus.scopus_api.ScopusAbstract at 0x21ffdb38400>,\n",
       " <scopus.scopus_api.ScopusAbstract at 0x21ffdb34278>,\n",
       " <scopus.scopus_api.ScopusAbstract at 0x21ffdb34d68>,\n",
       " <scopus.scopus_api.ScopusAbstract at 0x21ffdb7d080>]"
      ]
     },
     "execution_count": 52,
     "metadata": {},
     "output_type": "execute_result"
    }
   ],
   "source": [
    "search_author_pubs(\"Sarah\", \"Seiter\", \"University of North Carolina-Chapel Hill\")"
   ]
  },
  {
   "cell_type": "code",
   "execution_count": null,
   "metadata": {},
   "outputs": [],
   "source": []
  },
  {
   "cell_type": "code",
   "execution_count": 39,
   "metadata": {},
   "outputs": [],
   "source": [
    "import pandas as pd"
   ]
  },
  {
   "cell_type": "code",
   "execution_count": 40,
   "metadata": {},
   "outputs": [],
   "source": [
    "data = pd.read_csv(\"all_researchers.csv\", index_col=0)"
   ]
  },
  {
   "cell_type": "code",
   "execution_count": 42,
   "metadata": {},
   "outputs": [
    {
     "data": {
      "text/html": [
       "<div>\n",
       "<style scoped>\n",
       "    .dataframe tbody tr th:only-of-type {\n",
       "        vertical-align: middle;\n",
       "    }\n",
       "\n",
       "    .dataframe tbody tr th {\n",
       "        vertical-align: top;\n",
       "    }\n",
       "\n",
       "    .dataframe thead th {\n",
       "        text-align: right;\n",
       "    }\n",
       "</style>\n",
       "<table border=\"1\" class=\"dataframe\">\n",
       "  <thead>\n",
       "    <tr style=\"text-align: right;\">\n",
       "      <th></th>\n",
       "      <th>NameLast</th>\n",
       "      <th>NameFirst</th>\n",
       "      <th>institution_name</th>\n",
       "      <th>profession_role</th>\n",
       "      <th>dept_current</th>\n",
       "    </tr>\n",
       "  </thead>\n",
       "  <tbody>\n",
       "    <tr>\n",
       "      <th>596</th>\n",
       "      <td>Seiter</td>\n",
       "      <td>Sarah</td>\n",
       "      <td>University of North Carolina-Chapel Hill</td>\n",
       "      <td>NaN</td>\n",
       "      <td>NaN</td>\n",
       "    </tr>\n",
       "  </tbody>\n",
       "</table>\n",
       "</div>"
      ],
      "text/plain": [
       "    NameLast NameFirst                          institution_name  \\\n",
       "596   Seiter     Sarah  University of North Carolina-Chapel Hill   \n",
       "\n",
       "    profession_role dept_current  \n",
       "596             NaN          NaN  "
      ]
     },
     "execution_count": 42,
     "metadata": {},
     "output_type": "execute_result"
    }
   ],
   "source": [
    "data[data[\"NameLast\"]==\"Seiter\"]"
   ]
  },
  {
   "cell_type": "code",
   "execution_count": null,
   "metadata": {},
   "outputs": [],
   "source": []
  },
  {
   "cell_type": "code",
   "execution_count": null,
   "metadata": {},
   "outputs": [],
   "source": []
  }
 ],
 "metadata": {
  "kernelspec": {
   "display_name": "Python 3",
   "language": "python",
   "name": "python3"
  },
  "language_info": {
   "codemirror_mode": {
    "name": "ipython",
    "version": 3
   },
   "file_extension": ".py",
   "mimetype": "text/x-python",
   "name": "python",
   "nbconvert_exporter": "python",
   "pygments_lexer": "ipython3",
   "version": "3.6.4"
  }
 },
 "nbformat": 4,
 "nbformat_minor": 2
}
