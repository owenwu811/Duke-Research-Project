{
 "cells": [
  {
   "cell_type": "code",
   "execution_count": 41,
   "metadata": {},
   "outputs": [],
   "source": [
    "import pandas as pd\n",
    "import numpy as np\n",
    "import xml.dom.minidom"
   ]
  },
  {
   "cell_type": "code",
   "execution_count": 202,
   "metadata": {},
   "outputs": [],
   "source": [
    "data = pd.read_csv(\"all_researchers.csv\",index_col=0)"
   ]
  },
  {
   "cell_type": "code",
   "execution_count": 203,
   "metadata": {},
   "outputs": [
    {
     "data": {
      "text/plain": [
       "True"
      ]
     },
     "execution_count": 203,
     "metadata": {},
     "output_type": "execute_result"
    }
   ],
   "source": [
    "list(data[9:10]['institution_name'])[0] is np.NaN"
   ]
  },
  {
   "cell_type": "code",
   "execution_count": 204,
   "metadata": {},
   "outputs": [
    {
     "data": {
      "text/plain": [
       "'2018'"
      ]
     },
     "execution_count": 204,
     "metadata": {},
     "output_type": "execute_result"
    }
   ],
   "source": [
    "import re\n",
    "s = \"Fall 56 sfgds- 2018\"\n",
    "re.search(r\"(\\d{4})\", s).group(1)"
   ]
  },
  {
   "cell_type": "code",
   "execution_count": null,
   "metadata": {},
   "outputs": [],
   "source": []
  },
  {
   "cell_type": "code",
   "execution_count": 42,
   "metadata": {},
   "outputs": [],
   "source": [
    "import os, sys\n",
    "sys.path.append(os.path.dirname(os.path.dirname(os.path.abspath(\"__file__\"))))\n",
    "\n",
    "import requests\n",
    "import urllib3\n",
    "import crawlera_proxies\n",
    "import json\n",
    "\n",
    "\n",
    "_SESSION = requests.session()\n",
    "urllib3.disable_warnings(urllib3.exceptions.InsecureRequestWarning)\n",
    "\n",
    "proxies = crawlera_proxies.proxies\n",
    "\n",
    "def get_page_content(url, retry=0):\n",
    "    global _SESSION\n",
    "\n",
    "    if retry == 5:\n",
    "        return None\n",
    "\n",
    "    response = _SESSION.get(url, proxies=proxies, verify=False)\n",
    "\n",
    "    if response.status_code == 200:\n",
    "        return response.content\n",
    "    else:\n",
    "        print(str(response.status_code) + \" Code, waiting 10s before retrying\")\n",
    "        time.sleep(10)\n",
    "        _SESSION = requests.Session()\n",
    "        return get_page_content(url, retry+1)\n",
    "\n",
    "def search_pubmed(query):\n",
    "    base_url = \"https://eutils.ncbi.nlm.nih.gov/entrez/eutils/esearch.fcgi?db=pubmed&retmode=json&retmax=1000&term=\"\n",
    "    end_url = \"&field=title\"\n",
    "\n",
    "    full_url = base_url + query.replace(\" \", \"%20\") + end_url\n",
    "\n",
    "    content = get_page_content(full_url)\n",
    "\n",
    "    if content is None:\n",
    "        return []\n",
    "\n",
    "    x = json.loads(content)\n",
    "\n",
    "    try:\n",
    "        return x\n",
    "    except KeyError:\n",
    "        return []\n",
    "    \n",
    "def get_pubmed_pub(pubid):\n",
    "    full_url = \"https://eutils.ncbi.nlm.nih.gov/entrez/eutils/efetch.fcgi?db=pubmed&id=\" + pubid + \"&retmode=xml\"\n",
    "\n",
    "    content = get_page_content(full_url)\n",
    "    \n",
    "    \n",
    "    \n",
    "    if content is None:\n",
    "        return []\n",
    "    \n",
    "\n",
    "    e = xml.dom.minidom.parseString(content)\n",
    "    \n",
    "    \n",
    "    content2 = get_page_content('https://eutils.ncbi.nlm.nih.gov/entrez/eutils/esummary.fcgi?db=pubmed&id=' + pubid + '&retmode=json')\n",
    "    x = json.loads(content2)\n",
    "    stripped_pub = list(x['result'].values())[1]\n",
    "    \n",
    "    \n",
    "    return e, stripped_pub['pmcrefcount']"
   ]
  },
  {
   "cell_type": "code",
   "execution_count": 38,
   "metadata": {},
   "outputs": [],
   "source": [
    "x = search_pubmed(\"(Michael Campbell[Author])\")"
   ]
  },
  {
   "cell_type": "code",
   "execution_count": 12,
   "metadata": {},
   "outputs": [
    {
     "data": {
      "text/plain": [
       "{'esearchresult': {'count': '9',\n",
       "  'idlist': ['29169778',\n",
       "   '28821539',\n",
       "   '27856554',\n",
       "   '26086651',\n",
       "   '25713092',\n",
       "   '24591505',\n",
       "   '24006396',\n",
       "   '22665587',\n",
       "   '20516354'],\n",
       "  'querytranslation': 'Andrews, Tessa[Full Author Name]',\n",
       "  'retmax': '9',\n",
       "  'retstart': '0',\n",
       "  'translationset': [{'from': 'Tessa Andrews[Author]',\n",
       "    'to': 'Andrews, Tessa[Full Author Name]'}],\n",
       "  'translationstack': [{'count': '9',\n",
       "    'explode': 'N',\n",
       "    'field': 'Full Author Name',\n",
       "    'term': 'Andrews, Tessa[Full Author Name]'},\n",
       "   'GROUP']},\n",
       " 'header': {'type': 'esearch', 'version': '0.3'}}"
      ]
     },
     "execution_count": 12,
     "metadata": {},
     "output_type": "execute_result"
    }
   ],
   "source": [
    "x"
   ]
  },
  {
   "cell_type": "code",
   "execution_count": null,
   "metadata": {},
   "outputs": [],
   "source": []
  },
  {
   "cell_type": "code",
   "execution_count": 285,
   "metadata": {},
   "outputs": [
    {
     "name": "stdout",
     "output_type": "stream",
     "text": [
      "[None]\n"
     ]
    }
   ],
   "source": [
    "parse_authors([None, 1])"
   ]
  },
  {
   "cell_type": "code",
   "execution_count": 294,
   "metadata": {},
   "outputs": [],
   "source": [
    "def parse_authors(authors):\n",
    "    authors = [x for x in authors if len(x.getElementsByTagName(\"LastName\"))==1]\n",
    "    author_names = [x.getElementsByTagName(\"ForeName\")[0].firstChild.data + \" \" + x.getElementsByTagName(\"LastName\")[0].firstChild.data for x in authors]\n",
    "    return author_names"
   ]
  },
  {
   "cell_type": "code",
   "execution_count": 19,
   "metadata": {},
   "outputs": [],
   "source": [
    "pub = get_pubmed_pub('27856554')[0]"
   ]
  },
  {
   "cell_type": "code",
   "execution_count": 20,
   "metadata": {},
   "outputs": [],
   "source": [
    "year = pub.getElementsByTagName(\"MedlineDate\")[0].toxml()"
   ]
  },
  {
   "cell_type": "code",
   "execution_count": 32,
   "metadata": {},
   "outputs": [
    {
     "data": {
      "text/plain": [
       "'<MedlineDate>Winter 2016</MedlineDate>'"
      ]
     },
     "execution_count": 32,
     "metadata": {},
     "output_type": "execute_result"
    }
   ],
   "source": [
    "year"
   ]
  },
  {
   "cell_type": "code",
   "execution_count": 37,
   "metadata": {},
   "outputs": [
    {
     "ename": "AttributeError",
     "evalue": "'NoneType' object has no attribute 'group'",
     "output_type": "error",
     "traceback": [
      "\u001b[1;31m---------------------------------------------------------------------------\u001b[0m",
      "\u001b[1;31mAttributeError\u001b[0m                            Traceback (most recent call last)",
      "\u001b[1;32m<ipython-input-37-45d463bb6c9a>\u001b[0m in \u001b[0;36m<module>\u001b[1;34m()\u001b[0m\n\u001b[0;32m      1\u001b[0m \u001b[1;32mimport\u001b[0m \u001b[0mre\u001b[0m\u001b[1;33m\u001b[0m\u001b[0m\n\u001b[1;32m----> 2\u001b[1;33m \u001b[0mre\u001b[0m\u001b[1;33m.\u001b[0m\u001b[0msearch\u001b[0m\u001b[1;33m(\u001b[0m\u001b[1;34m'\\d{4}'\u001b[0m\u001b[1;33m,\u001b[0m \u001b[1;34m''\u001b[0m\u001b[1;33m)\u001b[0m\u001b[1;33m.\u001b[0m\u001b[0mgroup\u001b[0m\u001b[1;33m(\u001b[0m\u001b[1;36m0\u001b[0m\u001b[1;33m)\u001b[0m\u001b[1;33m\u001b[0m\u001b[0m\n\u001b[0m",
      "\u001b[1;31mAttributeError\u001b[0m: 'NoneType' object has no attribute 'group'"
     ]
    }
   ],
   "source": [
    "import re\n",
    "re.search('\\d{4}', '').group(0)\n"
   ]
  },
  {
   "cell_type": "code",
   "execution_count": null,
   "metadata": {},
   "outputs": [],
   "source": []
  },
  {
   "cell_type": "code",
   "execution_count": 39,
   "metadata": {
    "scrolled": true
   },
   "outputs": [
    {
     "name": "stdout",
     "output_type": "stream",
     "text": [
      "25642549\n"
     ]
    }
   ],
   "source": [
    "for pub_id in x['esearchresult']['idlist']:\n",
    "    pub = get_pubmed_pub(pub_id)[0]\n",
    "    try:\n",
    "        title = pub.getElementsByTagName(\"ArticleTitle\")[0].firstChild.data\n",
    "    except:\n",
    "        print(pub_id)"
   ]
  },
  {
   "cell_type": "code",
   "execution_count": 40,
   "metadata": {},
   "outputs": [],
   "source": []
  },
  {
   "cell_type": "code",
   "execution_count": null,
   "metadata": {},
   "outputs": [],
   "source": []
  },
  {
   "cell_type": "code",
   "execution_count": null,
   "metadata": {},
   "outputs": [],
   "source": []
  },
  {
   "cell_type": "code",
   "execution_count": null,
   "metadata": {},
   "outputs": [],
   "source": [
    "raw = pub.toxml().replace('\\n', '')"
   ]
  },
  {
   "cell_type": "code",
   "execution_count": null,
   "metadata": {},
   "outputs": [],
   "source": [
    "test = xml.dom.minidom.parseString(raw)"
   ]
  },
  {
   "cell_type": "code",
   "execution_count": null,
   "metadata": {},
   "outputs": [],
   "source": [
    "test.getElementsByTagName(\"PubDate\")[0].getElementsByTagName(\"Year\")[0].firstChild.data"
   ]
  },
  {
   "cell_type": "code",
   "execution_count": 1,
   "metadata": {},
   "outputs": [],
   "source": [
    "import scopus\n",
    "from scopus import AuthorSearch"
   ]
  },
  {
   "cell_type": "code",
   "execution_count": 2,
   "metadata": {},
   "outputs": [],
   "source": [
    "scopus.load_api_key()"
   ]
  },
  {
   "cell_type": "code",
   "execution_count": null,
   "metadata": {},
   "outputs": [],
   "source": []
  },
  {
   "cell_type": "code",
   "execution_count": 18,
   "metadata": {},
   "outputs": [],
   "source": [
    "import re\n",
    "\n",
    "s = re.sub('[^0-9a-zA-Z ]+', '', \"McGill University\")"
   ]
  },
  {
   "cell_type": "code",
   "execution_count": 19,
   "metadata": {},
   "outputs": [
    {
     "data": {
      "text/plain": [
       "'McGill University'"
      ]
     },
     "execution_count": 19,
     "metadata": {},
     "output_type": "execute_result"
    }
   ],
   "source": [
    "s"
   ]
  },
  {
   "cell_type": "code",
   "execution_count": 14,
   "metadata": {},
   "outputs": [],
   "source": [
    "x = scopus.AuthorSearch('AUTHLASTNAME(Abouheif) and AUTHFIRST(Ehab)')"
   ]
  },
  {
   "cell_type": "code",
   "execution_count": 13,
   "metadata": {},
   "outputs": [],
   "source": [
    "scopus.MY_API_KEY = 'b689186868b1ac6fc919cf658812e778'"
   ]
  },
  {
   "cell_type": "code",
   "execution_count": 15,
   "metadata": {},
   "outputs": [
    {
     "ename": "HTTPError",
     "evalue": "429 Client Error: Too Many Requests for url: https://api.elsevier.com/content/abstract/eid/2-s2.0-85043317757?view=META_ABS",
     "output_type": "error",
     "traceback": [
      "\u001b[1;31m---------------------------------------------------------------------------\u001b[0m",
      "\u001b[1;31mHTTPError\u001b[0m                                 Traceback (most recent call last)",
      "\u001b[1;32m<ipython-input-15-a57b742673c8>\u001b[0m in \u001b[0;36m<module>\u001b[1;34m()\u001b[0m\n\u001b[0;32m      1\u001b[0m \u001b[1;32mimport\u001b[0m \u001b[0mrequests\u001b[0m\u001b[1;33m\u001b[0m\u001b[0m\n\u001b[1;32m----> 2\u001b[1;33m \u001b[0my\u001b[0m \u001b[1;33m=\u001b[0m \u001b[0mscopus\u001b[0m\u001b[1;33m.\u001b[0m\u001b[0mScopusAuthor\u001b[0m\u001b[1;33m(\u001b[0m\u001b[0mx\u001b[0m\u001b[1;33m.\u001b[0m\u001b[0mauthors\u001b[0m\u001b[1;33m[\u001b[0m\u001b[1;36m0\u001b[0m\u001b[1;33m]\u001b[0m\u001b[1;33m.\u001b[0m\u001b[0meid\u001b[0m\u001b[1;33m)\u001b[0m\u001b[1;33m.\u001b[0m\u001b[0mget_abstracts\u001b[0m\u001b[1;33m(\u001b[0m\u001b[1;33m)\u001b[0m\u001b[1;33m\u001b[0m\u001b[0m\n\u001b[0m",
      "\u001b[1;32m~\\Anaconda3\\lib\\site-packages\\scopus\\scopus_author.py\u001b[0m in \u001b[0;36mget_abstracts\u001b[1;34m(self, refresh)\u001b[0m\n\u001b[0;32m    291\u001b[0m         \u001b[1;34m\"\"\"Return a list of ScopusAbstract objects using ScopusSearch.\"\"\"\u001b[0m\u001b[1;33m\u001b[0m\u001b[0m\n\u001b[0;32m    292\u001b[0m         return [ScopusAbstract(eid, refresh=refresh)\n\u001b[1;32m--> 293\u001b[1;33m                 for eid in self.get_document_eids(refresh=refresh)]\n\u001b[0m\u001b[0;32m    294\u001b[0m \u001b[1;33m\u001b[0m\u001b[0m\n\u001b[0;32m    295\u001b[0m     \u001b[1;32mdef\u001b[0m \u001b[0mget_document_summary\u001b[0m\u001b[1;33m(\u001b[0m\u001b[0mself\u001b[0m\u001b[1;33m,\u001b[0m \u001b[0mN\u001b[0m\u001b[1;33m=\u001b[0m\u001b[1;32mNone\u001b[0m\u001b[1;33m,\u001b[0m \u001b[0mcite_sort\u001b[0m\u001b[1;33m=\u001b[0m\u001b[1;32mTrue\u001b[0m\u001b[1;33m,\u001b[0m \u001b[0mrefresh\u001b[0m\u001b[1;33m=\u001b[0m\u001b[1;32mTrue\u001b[0m\u001b[1;33m)\u001b[0m\u001b[1;33m:\u001b[0m\u001b[1;33m\u001b[0m\u001b[0m\n",
      "\u001b[1;32m~\\Anaconda3\\lib\\site-packages\\scopus\\scopus_author.py\u001b[0m in \u001b[0;36m<listcomp>\u001b[1;34m(.0)\u001b[0m\n\u001b[0;32m    291\u001b[0m         \u001b[1;34m\"\"\"Return a list of ScopusAbstract objects using ScopusSearch.\"\"\"\u001b[0m\u001b[1;33m\u001b[0m\u001b[0m\n\u001b[0;32m    292\u001b[0m         return [ScopusAbstract(eid, refresh=refresh)\n\u001b[1;32m--> 293\u001b[1;33m                 for eid in self.get_document_eids(refresh=refresh)]\n\u001b[0m\u001b[0;32m    294\u001b[0m \u001b[1;33m\u001b[0m\u001b[0m\n\u001b[0;32m    295\u001b[0m     \u001b[1;32mdef\u001b[0m \u001b[0mget_document_summary\u001b[0m\u001b[1;33m(\u001b[0m\u001b[0mself\u001b[0m\u001b[1;33m,\u001b[0m \u001b[0mN\u001b[0m\u001b[1;33m=\u001b[0m\u001b[1;32mNone\u001b[0m\u001b[1;33m,\u001b[0m \u001b[0mcite_sort\u001b[0m\u001b[1;33m=\u001b[0m\u001b[1;32mTrue\u001b[0m\u001b[1;33m,\u001b[0m \u001b[0mrefresh\u001b[0m\u001b[1;33m=\u001b[0m\u001b[1;32mTrue\u001b[0m\u001b[1;33m)\u001b[0m\u001b[1;33m:\u001b[0m\u001b[1;33m\u001b[0m\u001b[0m\n",
      "\u001b[1;32m~\\Anaconda3\\lib\\site-packages\\scopus\\scopus_api.py\u001b[0m in \u001b[0;36m__init__\u001b[1;34m(self, EID, view, refresh)\u001b[0m\n\u001b[0;32m    215\u001b[0m         \u001b[0mparams\u001b[0m \u001b[1;33m=\u001b[0m \u001b[1;33m{\u001b[0m\u001b[1;34m'view'\u001b[0m\u001b[1;33m:\u001b[0m \u001b[0mview\u001b[0m\u001b[1;33m}\u001b[0m\u001b[1;33m\u001b[0m\u001b[0m\n\u001b[0;32m    216\u001b[0m         xml = ET.fromstring(get_content(qfile, url=url, refresh=refresh,\n\u001b[1;32m--> 217\u001b[1;33m                                         params=params))\n\u001b[0m\u001b[0;32m    218\u001b[0m         \u001b[1;31m# Remove default namespace if present\u001b[0m\u001b[1;33m\u001b[0m\u001b[1;33m\u001b[0m\u001b[0m\n\u001b[0;32m    219\u001b[0m         \u001b[0mremove\u001b[0m \u001b[1;33m=\u001b[0m \u001b[1;34mu'{http://www.elsevier.com/xml/svapi/abstract/dtd}'\u001b[0m\u001b[1;33m\u001b[0m\u001b[0m\n",
      "\u001b[1;32m~\\Anaconda3\\lib\\site-packages\\scopus\\utils\\get_content.py\u001b[0m in \u001b[0;36mget_content\u001b[1;34m(qfile, refresh, *args, **kwds)\u001b[0m\n\u001b[0;32m    103\u001b[0m     \u001b[1;32mif\u001b[0m \u001b[1;32mnot\u001b[0m \u001b[0mrefresh\u001b[0m \u001b[1;32mand\u001b[0m \u001b[0mos\u001b[0m\u001b[1;33m.\u001b[0m\u001b[0mpath\u001b[0m\u001b[1;33m.\u001b[0m\u001b[0mexists\u001b[0m\u001b[1;33m(\u001b[0m\u001b[0mqfile\u001b[0m\u001b[1;33m)\u001b[0m\u001b[1;33m:\u001b[0m\u001b[1;33m\u001b[0m\u001b[0m\n\u001b[0;32m    104\u001b[0m         \u001b[1;32mwith\u001b[0m \u001b[0mopen\u001b[0m\u001b[1;33m(\u001b[0m\u001b[0mqfile\u001b[0m\u001b[1;33m,\u001b[0m \u001b[1;34m'rb'\u001b[0m\u001b[1;33m)\u001b[0m \u001b[1;32mas\u001b[0m \u001b[0mf\u001b[0m\u001b[1;33m:\u001b[0m\u001b[1;33m\u001b[0m\u001b[0m\n\u001b[1;32m--> 105\u001b[1;33m             \u001b[0mcontent\u001b[0m \u001b[1;33m=\u001b[0m \u001b[0mf\u001b[0m\u001b[1;33m.\u001b[0m\u001b[0mread\u001b[0m\u001b[1;33m(\u001b[0m\u001b[1;33m)\u001b[0m\u001b[1;33m\u001b[0m\u001b[0m\n\u001b[0m\u001b[0;32m    106\u001b[0m     \u001b[1;32melse\u001b[0m\u001b[1;33m:\u001b[0m\u001b[1;33m\u001b[0m\u001b[0m\n\u001b[0;32m    107\u001b[0m         \u001b[0mcontent\u001b[0m \u001b[1;33m=\u001b[0m \u001b[0mdownload\u001b[0m\u001b[1;33m(\u001b[0m\u001b[1;33m*\u001b[0m\u001b[0margs\u001b[0m\u001b[1;33m,\u001b[0m \u001b[1;33m**\u001b[0m\u001b[0mkwds\u001b[0m\u001b[1;33m)\u001b[0m\u001b[1;33m.\u001b[0m\u001b[0mtext\u001b[0m\u001b[1;33m.\u001b[0m\u001b[0mencode\u001b[0m\u001b[1;33m(\u001b[0m\u001b[1;34m'utf-8'\u001b[0m\u001b[1;33m)\u001b[0m\u001b[1;33m\u001b[0m\u001b[0m\n",
      "\u001b[1;32m~\\Anaconda3\\lib\\site-packages\\scopus\\utils\\get_content.py\u001b[0m in \u001b[0;36mdownload\u001b[1;34m(url, params, accept)\u001b[0m\n\u001b[0;32m     75\u001b[0m     \u001b[0mheader\u001b[0m\u001b[1;33m.\u001b[0m\u001b[0mupdate\u001b[0m\u001b[1;33m(\u001b[0m\u001b[1;33m{\u001b[0m\u001b[1;34m'Accept'\u001b[0m\u001b[1;33m:\u001b[0m \u001b[1;34m'application/{}'\u001b[0m\u001b[1;33m.\u001b[0m\u001b[0mformat\u001b[0m\u001b[1;33m(\u001b[0m\u001b[0maccept\u001b[0m\u001b[1;33m)\u001b[0m\u001b[1;33m}\u001b[0m\u001b[1;33m)\u001b[0m\u001b[1;33m\u001b[0m\u001b[0m\n\u001b[0;32m     76\u001b[0m     \u001b[0mresp\u001b[0m \u001b[1;33m=\u001b[0m \u001b[0mrequests\u001b[0m\u001b[1;33m.\u001b[0m\u001b[0mget\u001b[0m\u001b[1;33m(\u001b[0m\u001b[0murl\u001b[0m\u001b[1;33m,\u001b[0m \u001b[0mheaders\u001b[0m\u001b[1;33m=\u001b[0m\u001b[0mheader\u001b[0m\u001b[1;33m,\u001b[0m \u001b[0mparams\u001b[0m\u001b[1;33m=\u001b[0m\u001b[0mparams\u001b[0m\u001b[1;33m,\u001b[0m \u001b[0mproxies\u001b[0m\u001b[1;33m=\u001b[0m\u001b[0mproxies\u001b[0m\u001b[1;33m)\u001b[0m\u001b[1;33m\u001b[0m\u001b[0m\n\u001b[1;32m---> 77\u001b[1;33m     \u001b[0mpprint\u001b[0m\u001b[1;33m(\u001b[0m\u001b[0mresp\u001b[0m\u001b[1;33m.\u001b[0m\u001b[0mheaders\u001b[0m\u001b[1;33m)\u001b[0m\u001b[1;33m\u001b[0m\u001b[0m\n\u001b[0m\u001b[0;32m     78\u001b[0m \u001b[1;33m\u001b[0m\u001b[0m\n\u001b[0;32m     79\u001b[0m     \u001b[0mresp\u001b[0m\u001b[1;33m.\u001b[0m\u001b[0mraise_for_status\u001b[0m\u001b[1;33m(\u001b[0m\u001b[1;33m)\u001b[0m\u001b[1;33m\u001b[0m\u001b[0m\n",
      "\u001b[1;32m~\\Anaconda3\\lib\\site-packages\\requests\\models.py\u001b[0m in \u001b[0;36mraise_for_status\u001b[1;34m(self)\u001b[0m\n\u001b[0;32m    937\u001b[0m \u001b[1;33m\u001b[0m\u001b[0m\n\u001b[0;32m    938\u001b[0m         \u001b[1;32mif\u001b[0m \u001b[0mhttp_error_msg\u001b[0m\u001b[1;33m:\u001b[0m\u001b[1;33m\u001b[0m\u001b[0m\n\u001b[1;32m--> 939\u001b[1;33m             \u001b[1;32mraise\u001b[0m \u001b[0mHTTPError\u001b[0m\u001b[1;33m(\u001b[0m\u001b[0mhttp_error_msg\u001b[0m\u001b[1;33m,\u001b[0m \u001b[0mresponse\u001b[0m\u001b[1;33m=\u001b[0m\u001b[0mself\u001b[0m\u001b[1;33m)\u001b[0m\u001b[1;33m\u001b[0m\u001b[0m\n\u001b[0m\u001b[0;32m    940\u001b[0m \u001b[1;33m\u001b[0m\u001b[0m\n\u001b[0;32m    941\u001b[0m     \u001b[1;32mdef\u001b[0m \u001b[0mclose\u001b[0m\u001b[1;33m(\u001b[0m\u001b[0mself\u001b[0m\u001b[1;33m)\u001b[0m\u001b[1;33m:\u001b[0m\u001b[1;33m\u001b[0m\u001b[0m\n",
      "\u001b[1;31mHTTPError\u001b[0m: 429 Client Error: Too Many Requests for url: https://api.elsevier.com/content/abstract/eid/2-s2.0-85043317757?view=META_ABS"
     ]
    }
   ],
   "source": [
    "import requests \n",
    "y = scopus.ScopusAuthor(x.authors[0].eid).get_abstracts()\n"
   ]
  },
  {
   "cell_type": "code",
   "execution_count": 11,
   "metadata": {
    "scrolled": true
   },
   "outputs": [],
   "source": [
    "import json\n",
    "pre_raw = vars(y[0])\n",
    "pre_raw.pop('xml', None)\n"
   ]
  },
  {
   "cell_type": "code",
   "execution_count": 12,
   "metadata": {},
   "outputs": [
    {
     "ename": "TypeError",
     "evalue": "vars() argument must have __dict__ attribute",
     "output_type": "error",
     "traceback": [
      "\u001b[1;31m---------------------------------------------------------------------------\u001b[0m",
      "\u001b[1;31mTypeError\u001b[0m                                 Traceback (most recent call last)",
      "\u001b[1;32m<ipython-input-12-de136f163e57>\u001b[0m in \u001b[0;36m<module>\u001b[1;34m()\u001b[0m\n\u001b[1;32m----> 1\u001b[1;33m \u001b[0mvars\u001b[0m\u001b[1;33m(\u001b[0m\u001b[0mpre_raw\u001b[0m\u001b[1;33m)\u001b[0m\u001b[1;33m\u001b[0m\u001b[0m\n\u001b[0m",
      "\u001b[1;31mTypeError\u001b[0m: vars() argument must have __dict__ attribute"
     ]
    }
   ],
   "source": [
    "vars(pre_raw)"
   ]
  },
  {
   "cell_type": "code",
   "execution_count": 5,
   "metadata": {},
   "outputs": [
    {
     "data": {
      "text/plain": [
       "[<scopus.scopus_api.ScopusAbstract at 0x1fce2546208>,\n",
       " <scopus.scopus_api.ScopusAbstract at 0x1fce2519e10>,\n",
       " <scopus.scopus_api.ScopusAbstract at 0x1fce2561860>,\n",
       " <scopus.scopus_api.ScopusAbstract at 0x1fce2567208>,\n",
       " <scopus.scopus_api.ScopusAbstract at 0x1fce254d320>,\n",
       " <scopus.scopus_api.ScopusAbstract at 0x1fce254dcc0>,\n",
       " <scopus.scopus_api.ScopusAbstract at 0x1fce2582f98>,\n",
       " <scopus.scopus_api.ScopusAbstract at 0x1fce258fa90>,\n",
       " <scopus.scopus_api.ScopusAbstract at 0x1fce2594898>,\n",
       " <scopus.scopus_api.ScopusAbstract at 0x1fce259f748>,\n",
       " <scopus.scopus_api.ScopusAbstract at 0x1fce25a80b8>,\n",
       " <scopus.scopus_api.ScopusAbstract at 0x1fce25bea58>,\n",
       " <scopus.scopus_api.ScopusAbstract at 0x1fce25c8630>,\n",
       " <scopus.scopus_api.ScopusAbstract at 0x1fce25cf1d0>,\n",
       " <scopus.scopus_api.ScopusAbstract at 0x1fce25d9128>,\n",
       " <scopus.scopus_api.ScopusAbstract at 0x1fce25dc128>,\n",
       " <scopus.scopus_api.ScopusAbstract at 0x1fce25dcef0>,\n",
       " <scopus.scopus_api.ScopusAbstract at 0x1fce25c8f60>,\n",
       " <scopus.scopus_api.ScopusAbstract at 0x1fce25f06a0>,\n",
       " <scopus.scopus_api.ScopusAbstract at 0x1fce25fc2e8>,\n",
       " <scopus.scopus_api.ScopusAbstract at 0x1fce260d748>,\n",
       " <scopus.scopus_api.ScopusAbstract at 0x1fce2608ba8>,\n",
       " <scopus.scopus_api.ScopusAbstract at 0x1fce261b898>,\n",
       " <scopus.scopus_api.ScopusAbstract at 0x1fce264cac8>,\n",
       " <scopus.scopus_api.ScopusAbstract at 0x1fce26792b0>,\n",
       " <scopus.scopus_api.ScopusAbstract at 0x1fce26835c0>,\n",
       " <scopus.scopus_api.ScopusAbstract at 0x1fce26ac9b0>,\n",
       " <scopus.scopus_api.ScopusAbstract at 0x1fce26bccc0>,\n",
       " <scopus.scopus_api.ScopusAbstract at 0x1fce26be390>,\n",
       " <scopus.scopus_api.ScopusAbstract at 0x1fce26be400>,\n",
       " <scopus.scopus_api.ScopusAbstract at 0x1fce26ca860>,\n",
       " <scopus.scopus_api.ScopusAbstract at 0x1fce26d1ef0>,\n",
       " <scopus.scopus_api.ScopusAbstract at 0x1fce26d92b0>,\n",
       " <scopus.scopus_api.ScopusAbstract at 0x1fce26e5048>,\n",
       " <scopus.scopus_api.ScopusAbstract at 0x1fce26e54e0>,\n",
       " <scopus.scopus_api.ScopusAbstract at 0x1fce26ec550>,\n",
       " <scopus.scopus_api.ScopusAbstract at 0x1fce25cf9e8>,\n",
       " <scopus.scopus_api.ScopusAbstract at 0x1fce26f4f60>,\n",
       " <scopus.scopus_api.ScopusAbstract at 0x1fce2703240>,\n",
       " <scopus.scopus_api.ScopusAbstract at 0x1fce2703470>,\n",
       " <scopus.scopus_api.ScopusAbstract at 0x1fce270da58>,\n",
       " <scopus.scopus_api.ScopusAbstract at 0x1fce270dc88>,\n",
       " <scopus.scopus_api.ScopusAbstract at 0x1fce2712b00>,\n",
       " <scopus.scopus_api.ScopusAbstract at 0x1fce2718ef0>,\n",
       " <scopus.scopus_api.ScopusAbstract at 0x1fce2718ac8>,\n",
       " <scopus.scopus_api.ScopusAbstract at 0x1fce27239e8>,\n",
       " <scopus.scopus_api.ScopusAbstract at 0x1fce272eb00>,\n",
       " <scopus.scopus_api.ScopusAbstract at 0x1fce2732668>]"
      ]
     },
     "execution_count": 5,
     "metadata": {},
     "output_type": "execute_result"
    }
   ],
   "source": []
  },
  {
   "cell_type": "code",
   "execution_count": 16,
   "metadata": {},
   "outputs": [],
   "source": []
  },
  {
   "cell_type": "code",
   "execution_count": null,
   "metadata": {},
   "outputs": [],
   "source": []
  },
  {
   "cell_type": "code",
   "execution_count": null,
   "metadata": {},
   "outputs": [],
   "source": []
  }
 ],
 "metadata": {
  "kernelspec": {
   "display_name": "Python 3",
   "language": "python",
   "name": "python3"
  },
  "language_info": {
   "codemirror_mode": {
    "name": "ipython",
    "version": 3
   },
   "file_extension": ".py",
   "mimetype": "text/x-python",
   "name": "python",
   "nbconvert_exporter": "python",
   "pygments_lexer": "ipython3",
   "version": "3.6.4"
  }
 },
 "nbformat": 4,
 "nbformat_minor": 2
}
